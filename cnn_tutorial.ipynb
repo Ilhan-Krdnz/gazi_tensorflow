{
  "nbformat": 4,
  "nbformat_minor": 0,
  "metadata": {
    "colab": {
      "provenance": [],
      "authorship_tag": "ABX9TyMPNw1ukQSiEx5vcBiwB8Og",
      "include_colab_link": true
    },
    "kernelspec": {
      "name": "python3",
      "display_name": "Python 3"
    },
    "language_info": {
      "name": "python"
    }
  },
  "cells": [
    {
      "cell_type": "markdown",
      "metadata": {
        "id": "view-in-github",
        "colab_type": "text"
      },
      "source": [
        "<a href=\"https://colab.research.google.com/github/Ilhan-Krdnz/gazi_tensorflow/blob/main/cnn_tutorial.ipynb\" target=\"_parent\"><img src=\"https://colab.research.google.com/assets/colab-badge.svg\" alt=\"Open In Colab\"/></a>"
      ]
    },
    {
      "cell_type": "code",
      "execution_count": 1,
      "metadata": {
        "colab": {
          "base_uri": "https://localhost:8080/"
        },
        "id": "jB8XTjIHF_CC",
        "outputId": "64f20b40-640c-446b-ed0d-7e25d49e3e6c"
      },
      "outputs": [
        {
          "output_type": "stream",
          "name": "stdout",
          "text": [
            "Downloading data from https://www.cs.toronto.edu/~kriz/cifar-10-python.tar.gz\n",
            "170498071/170498071 [==============================] - 6s 0us/step\n"
          ]
        },
        {
          "output_type": "stream",
          "name": "stderr",
          "text": [
            "WARNING:absl:`lr` is deprecated in Keras optimizer, please use `learning_rate` or use the legacy optimizer, e.g.,tf.keras.optimizers.legacy.Adam.\n"
          ]
        },
        {
          "output_type": "stream",
          "name": "stdout",
          "text": [
            "Epoch 1/10\n",
            "782/782 - 96s - loss: 1.2439 - accuracy: 0.5567 - 96s/epoch - 123ms/step\n",
            "Epoch 2/10\n",
            "782/782 - 95s - loss: 0.8643 - accuracy: 0.6966 - 95s/epoch - 121ms/step\n",
            "Epoch 3/10\n",
            "782/782 - 97s - loss: 0.7220 - accuracy: 0.7475 - 97s/epoch - 124ms/step\n",
            "Epoch 4/10\n",
            "782/782 - 96s - loss: 0.6286 - accuracy: 0.7782 - 96s/epoch - 123ms/step\n",
            "Epoch 5/10\n",
            "782/782 - 93s - loss: 0.5512 - accuracy: 0.8064 - 93s/epoch - 119ms/step\n",
            "Epoch 6/10\n",
            "782/782 - 93s - loss: 0.4877 - accuracy: 0.8291 - 93s/epoch - 119ms/step\n",
            "Epoch 7/10\n",
            "782/782 - 96s - loss: 0.4248 - accuracy: 0.8500 - 96s/epoch - 122ms/step\n",
            "Epoch 8/10\n",
            "782/782 - 93s - loss: 0.3672 - accuracy: 0.8704 - 93s/epoch - 119ms/step\n",
            "Epoch 9/10\n",
            "782/782 - 94s - loss: 0.3171 - accuracy: 0.8881 - 94s/epoch - 120ms/step\n",
            "Epoch 10/10\n",
            "782/782 - 92s - loss: 0.2807 - accuracy: 0.9013 - 92s/epoch - 118ms/step\n",
            "157/157 - 4s - loss: 1.0609 - accuracy: 0.7115 - 4s/epoch - 28ms/step\n"
          ]
        },
        {
          "output_type": "execute_result",
          "data": {
            "text/plain": [
              "[1.0609031915664673, 0.7114999890327454]"
            ]
          },
          "metadata": {},
          "execution_count": 1
        }
      ],
      "source": [
        "import tensorflow as tf\n",
        "from tensorflow import keras\n",
        "from tensorflow.keras import layers\n",
        "from tensorflow.keras.datasets import cifar10\n",
        "\n",
        "(x_train, y_train), (x_test, y_test) = cifar10.load_data()\n",
        "x_train = x_train.astype(\"float32\") / 255.0\n",
        "x_test = x_test.astype(\"float32\") / 255.0\n",
        "\n",
        "model = keras.Sequential(\n",
        "    [\n",
        "        keras.Input(shape=(32, 32, 3)),\n",
        "        layers.Conv2D(32, 3, padding=\"valid\", activation=\"relu\"),\n",
        "        layers.MaxPooling2D(),\n",
        "        layers.Conv2D(64, 3, activation=\"relu\"),\n",
        "        layers.MaxPooling2D(),\n",
        "        layers.Conv2D(128, 3, activation=\"relu\"),\n",
        "        layers.Flatten(),\n",
        "        layers.Dense(64, activation=\"relu\"),\n",
        "        layers.Dense(10),\n",
        "    ]\n",
        ")\n",
        "\n",
        "\n",
        "def my_model():\n",
        "    inputs = keras.Input(shape=(32, 32, 3))\n",
        "    x = layers.Conv2D(32, 3)(inputs)\n",
        "    x = layers.BatchNormalization()(x)\n",
        "    x = keras.activations.relu(x)\n",
        "    x = layers.MaxPooling2D()(x)\n",
        "    x = layers.Conv2D(64, 3)(x)\n",
        "    x = layers.BatchNormalization()(x)\n",
        "    x = keras.activations.relu(x)\n",
        "    x = layers.MaxPooling2D()(x)\n",
        "    x = layers.Conv2D(128, 3)(x)\n",
        "    x = layers.BatchNormalization()(x)\n",
        "    x = keras.activations.relu(x)\n",
        "    x = layers.Flatten()(x)\n",
        "    x = layers.Dense(64, activation=\"relu\")(x)\n",
        "    outputs = layers.Dense(10)(x)\n",
        "    model = keras.Model(inputs=inputs, outputs=outputs)\n",
        "    return model\n",
        "\n",
        "\n",
        "model = my_model()\n",
        "model.compile(\n",
        "    loss=keras.losses.SparseCategoricalCrossentropy(from_logits=True),\n",
        "    optimizer=keras.optimizers.Adam(lr=3e-4),\n",
        "    metrics=[\"accuracy\"],\n",
        ")\n",
        "\n",
        "model.fit(x_train, y_train, batch_size=64, epochs=10, verbose=2)\n",
        "model.evaluate(x_test, y_test, batch_size=64, verbose=2)"
      ]
    }
  ]
}